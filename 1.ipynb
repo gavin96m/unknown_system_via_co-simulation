{
 "cells": [
  {
   "cell_type": "code",
   "id": "initial_id",
   "metadata": {
    "collapsed": true,
    "ExecuteTime": {
     "end_time": "2024-08-07T16:53:21.028878Z",
     "start_time": "2024-08-07T16:53:21.024733Z"
    }
   },
   "source": [
    "from fmpy import *\n",
    "\n",
    "fmu = 'example.fmu'\n",
    "fmpy.dump(fmu)"
   ],
   "outputs": [
    {
     "name": "stdout",
     "output_type": "stream",
     "text": [
      "\n",
      "Model Info\n",
      "\n",
      "  FMI Version        2.0\n",
      "  FMI Type           Co-Simulation\n",
      "  Model Name         unifmu\n",
      "  Description        None\n",
      "  Platforms          darwin64, linux64, win64\n",
      "  Continuous States  0\n",
      "  Event Indicators   0\n",
      "  Variables          12\n",
      "  Generation Tool    unifmu\n",
      "  Generation Date    2020-10-23T19:51:25Z\n",
      "\n",
      "\n",
      "Variables (input, output)\n",
      "\n",
      "  Name               Causality              Start Value  Unit     Description\n",
      "  real_a             input                          0.0           \n",
      "  real_b             input                          0.0           \n",
      "  real_c             output                                       \n",
      "  integer_a          input                            0           \n",
      "  integer_b          input                            0           \n",
      "  integer_c          output                                       \n",
      "  boolean_a          input                        false           \n",
      "  boolean_b          input                        false           \n",
      "  boolean_c          output                                       \n",
      "  string_a           input                                        \n",
      "  string_b           input                                        \n",
      "  string_c           output                                       \n"
     ]
    }
   ],
   "execution_count": 12
  },
  {
   "metadata": {
    "ExecuteTime": {
     "end_time": "2024-08-07T16:53:29.163087Z",
     "start_time": "2024-08-07T16:53:29.160556Z"
    }
   },
   "cell_type": "code",
   "source": "fmpy info example.fmu",
   "id": "ef98a9f1e5068064",
   "outputs": [
    {
     "ename": "SyntaxError",
     "evalue": "invalid syntax (764754323.py, line 1)",
     "output_type": "error",
     "traceback": [
      "\u001B[1;36m  Cell \u001B[1;32mIn[13], line 1\u001B[1;36m\u001B[0m\n\u001B[1;33m    fmpy info example.fmu\u001B[0m\n\u001B[1;37m         ^\u001B[0m\n\u001B[1;31mSyntaxError\u001B[0m\u001B[1;31m:\u001B[0m invalid syntax\n"
     ]
    }
   ],
   "execution_count": 13
  }
 ],
 "metadata": {
  "kernelspec": {
   "display_name": "Python 3",
   "language": "python",
   "name": "python3"
  },
  "language_info": {
   "codemirror_mode": {
    "name": "ipython",
    "version": 2
   },
   "file_extension": ".py",
   "mimetype": "text/x-python",
   "name": "python",
   "nbconvert_exporter": "python",
   "pygments_lexer": "ipython2",
   "version": "2.7.6"
  }
 },
 "nbformat": 4,
 "nbformat_minor": 5
}
